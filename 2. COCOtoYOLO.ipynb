{
 "cells": [
  {
   "cell_type": "code",
   "execution_count": 16,
   "metadata": {},
   "outputs": [
    {
     "name": "stdout",
     "output_type": "stream",
     "text": [
      "loading annotations into memory...\n",
      "Done (t=0.32s)\n",
      "creating index...\n",
      "index created!\n"
     ]
    },
    {
     "data": {
      "text/plain": [
       "'\\n농어, 베스, 숭어, 강준치, 블루길, 잉어, 붕어, 누치\\n'"
      ]
     },
     "execution_count": 16,
     "metadata": {},
     "output_type": "execute_result"
    }
   ],
   "source": [
    "import json\n",
    "import cv2\n",
    "import os\n",
    "import matplotlib.pyplot as plt\n",
    "import shutil\n",
    "import requests\n",
    "from tqdm import tqdm\n",
    "from glob import glob\n",
    "\n",
    "from pycocotools.coco import COCO\n",
    "\n",
    "# 원본 train_data 경로\n",
    "input_path  = './data/train'\n",
    "# 출력물 저장 경로\n",
    "output_path = './data/labels_YOLO'\n",
    "\n",
    "# instantiate COCO specifying the annotations json path\n",
    "coco = COCO('./data/labels/train.json')\n",
    "\n",
    "# Specify a list of category names of interest\n",
    "coco_class = ['농어', '베스', '숭어', '강준치', '블루길', '잉어', '붕어', '누치']\n",
    "\n",
    "\n",
    "f = open('./data/labels/train.json')\n",
    "data = json.load(f)\n",
    "f.close()\n",
    "\n",
    "\"\"\"\n",
    "농어, 베스, 숭어, 강준치, 블루길, 잉어, 붕어, 누치\n",
    "\"\"\""
   ]
  },
  {
   "cell_type": "code",
   "execution_count": 19,
   "metadata": {},
   "outputs": [
    {
     "name": "stdout",
     "output_type": "stream",
     "text": [
      "/home/yebu/ai_competitions/aifactory/fish_copy\n",
      "* Original train len\n",
      "train : 104875, test : 44946\n",
      "-----------------------------\n",
      "* Re-dataset train len\n",
      "train : 4683, test : 1169\n"
     ]
    }
   ],
   "source": [
    "# 전체 데이터에서 물고기가 존재하는 파일만 따로 뺀게 YOLO/train.\n",
    "# YOLO/train을 먼저 만들어야함.\n",
    "\n",
    "data_dir = \"./data/\"\n",
    "\n",
    "train_dir = data_dir + \"train\"\n",
    "test_dir  = data_dir + \"test\"\n",
    "\n",
    "train_re_dir = data_dir + \"YOLO/train/\"\n",
    "test_re_dir = data_dir + \"YOLO/test/\"\n",
    "\n",
    "\n",
    "train_list = os.listdir(train_dir)\n",
    "test_list  = os.listdir(test_dir)\n",
    "\n",
    "\n",
    "train_re_list = glob(f\"{train_re_dir}*.png\")\n",
    "test_re_list = glob(f\"{test_re_dir}*.png\")\n",
    "\n",
    "\n",
    "train_list = sorted(train_list, key= lambda x: int(x[6:-4]))\n",
    "test_list  = sorted(test_list, key= lambda x: int(x[5:-4]))\n",
    "\n",
    "\n",
    "print(\"* Original train len\")\n",
    "print(f\"train : {len(train_list)}, test : {len(test_list)}\")\n",
    "print(\"-----------------------------\")\n",
    "print(\"* Re-dataset train len\")\n",
    "print(f\"train : {len(train_re_list)}, test : {len(test_re_list)}\")"
   ]
  },
  {
   "cell_type": "code",
   "execution_count": 6,
   "metadata": {},
   "outputs": [
    {
     "name": "stdout",
     "output_type": "stream",
     "text": [
      "loading annotations into memory...\n",
      "Done (t=0.43s)\n",
      "creating index...\n",
      "index created!\n",
      "loading annotations into memory...\n",
      "Done (t=0.10s)\n",
      "creating index...\n",
      "index created!\n",
      "train_files:  5561\n"
     ]
    }
   ],
   "source": [
    "ann_json    = data_dir + 'labels/train.json'\n",
    "answer_json = data_dir + 'labels/answer_sample.json'\n",
    "\n",
    "coco = COCO(ann_json)\n",
    "coco_answer = COCO(answer_json)\n",
    "\n",
    "whole_image_ids = coco.getImgIds()\n",
    "image_ids = []\n",
    "no_anno_ids = []\n",
    "\n",
    "# to remove not annotated image idx\n",
    "for idx in whole_image_ids:\n",
    "    annotations_ids = coco.getAnnIds(imgIds=idx, iscrowd=False)\n",
    "    if len(annotations_ids) == 0:\n",
    "        no_anno_ids.append(idx)\n",
    "    else:\n",
    "        image_ids.append(idx)\n",
    "\n",
    "\n",
    "train_files = []\n",
    "for id in image_ids:\n",
    "    train_file = coco.loadImgs(id)[0]['file_name']\n",
    "    train_files.append(train_file)\n",
    "\n",
    "print(\"train_files: \", len(train_files))"
   ]
  },
  {
   "cell_type": "code",
   "execution_count": 10,
   "metadata": {},
   "outputs": [
    {
     "name": "stderr",
     "output_type": "stream",
     "text": [
      "100%|██████████| 5561/5561 [00:05<00:00, 958.87it/s] \n"
     ]
    }
   ],
   "source": [
    "import shutil\n",
    "\n",
    "output_path = './data/train_fish'\n",
    "\n",
    "def load_images_from_folder(folder, train_files, output_path):\n",
    "    count = 0\n",
    "    for filename in tqdm(train_files):\n",
    "        source = os.path.join(folder, filename)\n",
    "        destination = f\"{output_path}/{filename[:-4]}.jpg\"\n",
    "        \n",
    "        try:\n",
    "            shutil.copy(source, destination)\n",
    "            # print(\"File copied successfully.\")\n",
    "\n",
    "        # If source and destination are same\n",
    "        except shutil.SameFileError:\n",
    "            print(\"Source and destination represents the same file.\")\n",
    "\n",
    "        count += 1\n",
    "\n",
    "load_images_from_folder(folder='./data/train', train_files=train_files, output_path=output_path)"
   ]
  },
  {
   "cell_type": "code",
   "execution_count": 11,
   "metadata": {},
   "outputs": [],
   "source": [
    "def get_img_ann(image_id):\n",
    "    img_ann = []\n",
    "    isFound = False\n",
    "    for ann in data['annotations']:\n",
    "        if ann['image_id'] == image_id:\n",
    "            img_ann.append(ann)\n",
    "            isFound = True\n",
    "    if isFound:\n",
    "        return img_ann\n",
    "    else:\n",
    "        return None"
   ]
  },
  {
   "cell_type": "code",
   "execution_count": null,
   "metadata": {},
   "outputs": [],
   "source": []
  },
  {
   "cell_type": "code",
   "execution_count": null,
   "metadata": {},
   "outputs": [],
   "source": []
  },
  {
   "cell_type": "code",
   "execution_count": null,
   "metadata": {},
   "outputs": [],
   "source": []
  },
  {
   "cell_type": "code",
   "execution_count": 13,
   "metadata": {},
   "outputs": [
    {
     "data": {
      "text/plain": [
       "([], [])"
      ]
     },
     "execution_count": 13,
     "metadata": {},
     "output_type": "execute_result"
    }
   ],
   "source": [
    "from glob import glob\n",
    "\n",
    "target_png = r\"./data/yolo_train/*.png\"\n",
    "target_txt = r\"./data/yolo_train/*.txt\"\n",
    "\n",
    "png_list = glob(target_png)\n",
    "txt_list = glob(target_txt)\n",
    "\n",
    "png_list[:5], txt_list[:5]"
   ]
  },
  {
   "cell_type": "code",
   "execution_count": 5,
   "metadata": {},
   "outputs": [],
   "source": [
    "des_dir = \"./data/yolo_val\"\n",
    "\n",
    "for cnt, i in enumerate(zip(png_list, txt_list)):\n",
    "    if cnt == 1000: break\n",
    "\n",
    "    img, txt = i[0], i[1]\n",
    "\n",
    "    shutil.move(img, des_dir)\n",
    "    shutil.move(txt, des_dir)"
   ]
  },
  {
   "cell_type": "code",
   "execution_count": null,
   "metadata": {},
   "outputs": [],
   "source": [
    "cnt = 0\n",
    "for txt_file in glob_list:\n",
    "\n",
    "    with open(txt_file, 'r') as f:\n",
    "        length_check = []\n",
    "        for line in f:\n",
    "            length_check.append(line)\n",
    "        \n",
    "        if len(length_check) != 1:\n",
    "            cnt += 1\n",
    "            print('check file : ', txt_file, len(length_check))\n",
    "            \n",
    "print(cnt)"
   ]
  },
  {
   "cell_type": "code",
   "execution_count": 16,
   "metadata": {},
   "outputs": [
    {
     "name": "stdout",
     "output_type": "stream",
     "text": [
      "2 0.2722734 0.6179895 0.2723906 0.1932291\n",
      "\n",
      "2 0.3991328 0.4901041 0.2711718 0.1585833\n",
      "\n",
      "2 0.3845937 0.5598125 0.2537187 0.1584166\n",
      "\n"
     ]
    }
   ],
   "source": [
    "with open(\"/USER/mnc/fish/data/yolo_train/train_68990.txt\", 'r') as f:\n",
    "    for i in f:\n",
    "        print(i)"
   ]
  },
  {
   "cell_type": "code",
   "execution_count": null,
   "metadata": {},
   "outputs": [],
   "source": []
  }
 ],
 "metadata": {
  "kernelspec": {
   "display_name": "fish",
   "language": "python",
   "name": "python3"
  },
  "language_info": {
   "codemirror_mode": {
    "name": "ipython",
    "version": 3
   },
   "file_extension": ".py",
   "mimetype": "text/x-python",
   "name": "python",
   "nbconvert_exporter": "python",
   "pygments_lexer": "ipython3",
   "version": "3.10.13"
  }
 },
 "nbformat": 4,
 "nbformat_minor": 2
}
