{
 "cells": [
  {
   "cell_type": "code",
   "execution_count": 11,
   "metadata": {},
   "outputs": [],
   "source": [
    "import os\n",
    "import shutil\n",
    "import glob\n",
    "\n",
    "import numpy as np\n",
    "import pandas as pd\n",
    "\n",
    "from tqdm import tqdm\n",
    "\n",
    "import matplotlib.pyplot as plt\n",
    "\n",
    "from PIL import Image"
   ]
  },
  {
   "cell_type": "markdown",
   "metadata": {},
   "source": [
    "# Use COCO_train_test_split library\n",
    "\n",
    "- multi-class인 COCO_dataset을 train/test 분할\n",
    "\n",
    "- CLI에서 \n",
    "    - !python cocosplit.py --having-annotations --multi-class -s 0.8 {/path/to/your/coco_annotations.json} {train.json} {test.json}"
   ]
  },
  {
   "cell_type": "code",
   "execution_count": 17,
   "metadata": {},
   "outputs": [
    {
     "name": "stdout",
     "output_type": "stream",
     "text": [
      "/home/yebu/ai_competitions/aifactory/fish_copy/data_preprocess/COCO_train_test\n",
      "Saved 5040 entries in ../../data/labels_YOLO/train/train.json and 1261 in ../../data/labels_YOLO/test/test.json\n",
      "/home/yebu/ai_competitions/aifactory/fish_copy\n"
     ]
    }
   ],
   "source": [
    "!mkdir -p data/labels_YOLO/train data/labels_YOLO/test\n",
    "%cd ./data_preprocess/COCO_train_test\n",
    "\n",
    "!python cocosplit.py --having-annotations --multi-class -s 0.8 ../../data/labels/train.json ../../data/labels_YOLO/train/train.json ../../data/labels_YOLO/test/test.json\n",
    "%cd ../../"
   ]
  },
  {
   "cell_type": "markdown",
   "metadata": {},
   "source": [
    "# Move images into train/test folder"
   ]
  },
  {
   "cell_type": "code",
   "execution_count": 18,
   "metadata": {},
   "outputs": [],
   "source": [
    "!mkdir -p data/YOLO/train data/YOLO/test data/YOLO/train_test_all"
   ]
  },
  {
   "cell_type": "code",
   "execution_count": null,
   "metadata": {},
   "outputs": [],
   "source": [
    "# install pycocotools\n",
    "!pip install pycocotools"
   ]
  },
  {
   "cell_type": "code",
   "execution_count": 19,
   "metadata": {},
   "outputs": [
    {
     "name": "stdout",
     "output_type": "stream",
     "text": [
      "loading annotations into memory...\n",
      "Done (t=0.03s)\n",
      "creating index...\n",
      "index created!\n",
      "loading annotations into memory...\n",
      "Done (t=0.21s)\n",
      "creating index...\n",
      "index created!\n"
     ]
    }
   ],
   "source": [
    "from pycocotools.coco import COCO\n",
    "\n",
    "train_split_json = './data/labels_YOLO/train/train.json'\n",
    "test_split_json  = './data/labels_YOLO/test/test.json'\n",
    "\n",
    "coco_train_split = COCO(train_split_json)\n",
    "coco_test_split  = COCO(test_split_json)"
   ]
  },
  {
   "cell_type": "code",
   "execution_count": 3,
   "metadata": {},
   "outputs": [],
   "source": [
    "# Create train_data_info in dictionary\n",
    "\n",
    "from collections import defaultdict\n",
    "\n",
    "train_dict = defaultdict(list)\n",
    "test_dict  = defaultdict(list)\n",
    "\n",
    "for i in range(149821):\n",
    "    try:\n",
    "        # annotation_id를 기반으로 annotation dict의 전체 정보를 return\n",
    "        ann_info = coco_train_split.loadAnns(i)[0]\n",
    "\n",
    "        image_id = ann_info['image_id']\n",
    "        category = ann_info['category_id']\n",
    "        bbox     = ann_info['bbox']\n",
    "\n",
    "        file_name = coco_train_split.loadImgs(image_id)[0]['file_name']\n",
    "\n",
    "        train_dict[file_name].append((image_id, category, bbox))\n",
    "    except:\n",
    "        pass\n",
    "\n",
    "for i in range(149821):\n",
    "    try:\n",
    "        # annotation_id를 기반으로 annotation dict의 전체 정보를 return\n",
    "        ann_info = coco_test_split.loadAnns(i)[0]\n",
    "\n",
    "        image_id = ann_info['image_id']\n",
    "        category = ann_info['category_id']\n",
    "        bbox     = ann_info['bbox']\n",
    "\n",
    "        file_name = coco_test_split.loadImgs(image_id)[0]['file_name']\n",
    "\n",
    "        test_dict[file_name].append((image_id, category, bbox))\n",
    "    except:\n",
    "        pass"
   ]
  },
  {
   "cell_type": "code",
   "execution_count": 4,
   "metadata": {},
   "outputs": [
    {
     "name": "stdout",
     "output_type": "stream",
     "text": [
      "('train_0.png', [(1, 3, [37.98, 209.94, 369.19, 110.89])])\n",
      "('train_186.png', [(284, 5, [96.59, 236.87, 427.01, 137.82])])\n",
      "('train_194.png', [(297, 5, [26.18, 222.61, 409.5, 171.09])])\n",
      "                      \n",
      "('train_185.png', [(283, 5, [57.07, 247.17, 384.16, 130.69])])\n",
      "('train_192.png', [(292, 5, [154.41, 254.3, 467.41, 134.65])])\n",
      "('train_195.png', [(299, 5, [80.04, 228.95, 373.07, 157.62])])\n"
     ]
    }
   ],
   "source": [
    "cnt = 0\n",
    "\n",
    "for i in train_dict.items():\n",
    "    print(i)\n",
    "    cnt += 1\n",
    "    if cnt == 3:\n",
    "        break\n",
    "    \n",
    "print(\"                      \")\n",
    "\n",
    "cnt = 0\n",
    "\n",
    "for i in test_dict.items():\n",
    "    print(i)\n",
    "    cnt += 1\n",
    "    if cnt == 3:\n",
    "        break"
   ]
  },
  {
   "cell_type": "code",
   "execution_count": 5,
   "metadata": {},
   "outputs": [
    {
     "data": {
      "text/plain": [
       "'/home/yebu/ai_competitions/aifactory/fish_copy'"
      ]
     },
     "execution_count": 5,
     "metadata": {},
     "output_type": "execute_result"
    }
   ],
   "source": [
    "os.getcwd()"
   ]
  },
  {
   "cell_type": "code",
   "execution_count": 6,
   "metadata": {},
   "outputs": [
    {
     "name": "stderr",
     "output_type": "stream",
     "text": [
      "100%|██████████| 4683/4683 [00:03<00:00, 1364.96it/s]\n",
      "100%|██████████| 1169/1169 [00:01<00:00, 928.01it/s] \n"
     ]
    }
   ],
   "source": [
    "# Copy images into yolo_train / yolo_test\n",
    "\n",
    "train_img_list = list(train_dict.keys())\n",
    "test_img_list  = list(test_dict.keys())\n",
    "\n",
    "data_origin = './data/train/'\n",
    "\n",
    "train_dir = './data/YOLO/train'\n",
    "test_dir  = './data/YOLO/test'\n",
    "\n",
    "\n",
    "for idx, i in enumerate([train_img_list, test_img_list]):\n",
    "    \n",
    "    for img in tqdm(i):\n",
    "        from_file_path = data_origin + img\n",
    "\n",
    "        if idx == 0:\n",
    "            to_file_path = train_dir\n",
    "        else:\n",
    "            to_file_path = test_dir\n",
    "\n",
    "        shutil.copy(from_file_path, to_file_path)"
   ]
  },
  {
   "cell_type": "code",
   "execution_count": 20,
   "metadata": {},
   "outputs": [
    {
     "name": "stdout",
     "output_type": "stream",
     "text": [
      "/USER/mnc/aifactory_fish/fish_copy/data_preprocess\n",
      "/USER/mnc/aifactory_fish/fish_copy/data_preprocess/convert2Yolo\n"
     ]
    },
    {
     "name": "stderr",
     "output_type": "stream",
     "text": [
      "/root/anaconda3/envs/fish/lib/python3.10/site-packages/IPython/core/magics/osm.py:417: UserWarning: using dhist requires you to install the `pickleshare` library.\n",
      "  self.shell.db['dhist'] = compress_dhist(dhist)[-100:]\n"
     ]
    },
    {
     "data": {
      "text/plain": [
       "'\\n!pip install -r requirements.txt\\n'"
      ]
     },
     "execution_count": 20,
     "metadata": {},
     "output_type": "execute_result"
    }
   ],
   "source": [
    "%cd data_preprocess\n",
    "\"\"\"\n",
    "!git clone https://github.com/ssaru/convert2Yolo.git\n",
    "\"\"\"\n",
    "\n",
    "\n",
    "%cd convert2Yolo\n",
    "\"\"\"\n",
    "!pip install -r requirements.txt\n",
    "\"\"\""
   ]
  },
  {
   "cell_type": "code",
   "execution_count": 7,
   "metadata": {},
   "outputs": [],
   "source": [
    "labels = ['농어', '베스', '숭어', '강준치', '블루길', '잉어', '붕어', '누치']\n",
    "\n",
    "\n",
    "with open('fish.names', 'w+', encoding='UTF-8') as f:\n",
    "    for i in labels:\n",
    "        f.write(i + '\\n')"
   ]
  },
  {
   "cell_type": "code",
   "execution_count": 9,
   "metadata": {},
   "outputs": [
    {
     "data": {
      "text/plain": [
       "'/home/yebu/ai_competitions/aifactory/fish_copy'"
      ]
     },
     "execution_count": 9,
     "metadata": {},
     "output_type": "execute_result"
    }
   ],
   "source": [
    "os.getcwd()"
   ]
  },
  {
   "cell_type": "code",
   "execution_count": 10,
   "metadata": {},
   "outputs": [
    {
     "name": "stdout",
     "output_type": "stream",
     "text": [
      "/home/yebu/ai_competitions/aifactory/fish_copy/data_preprocess/convert2Yolo\n",
      "\n",
      "COCO Parsing:  |██--------------------------------------| 6.2% (314/5040)  Complete\r"
     ]
    },
    {
     "name": "stderr",
     "output_type": "stream",
     "text": [
      "/home/yebu/anaconda3/envs/med_com/lib/python3.10/site-packages/IPython/core/magics/osm.py:417: UserWarning: using dhist requires you to install the `pickleshare` library.\n",
      "  self.shell.db['dhist'] = compress_dhist(dhist)[-100:]\n"
     ]
    },
    {
     "name": "stdout",
     "output_type": "stream",
     "text": [
      "COCO Parsing:  |████████████████████████████████████████| 100.0% (5040/5040)  Complete\n",
      "\n",
      "\n",
      "YOLO Generating:|████████████████████████████████████████| 100.0% (4683/4683)  Complete████---------------| 64.2% (3007/4683)  Complete\n",
      "\n",
      "\n",
      "YOLO Saving:   |████████████████████████████████████████| 100.0% (4683/4683)  Complete\n",
      "\n",
      "\n",
      "COCO Parsing:  |████████████████████████████████████████| 100.0% (1261/1261)  Complete\n",
      "\n",
      "\n",
      "YOLO Generating:|████████████████████████████████████████| 100.0% (1169/1169)  Complete███--------------------------| 37.4% (437/1169)  Complete\n",
      "\n",
      "\n",
      "YOLO Saving:   |████████████████████████████████████████| 100.0% (1169/1169)  Complete\n",
      "\n",
      "/home/yebu/ai_competitions/aifactory/fish_copy\n"
     ]
    }
   ],
   "source": [
    "%cd /home/yebu/ai_competitions/aifactory/fish_copy/data_preprocess/convert2Yolo\n",
    "\n",
    "!python3 example.py --datasets COCO --img_path ../../data/YOLO/train --label ../../data/labels_YOLO/train/train.json --convert_output_path ../../data/YOLO/train --img_type \".png\" --manifest_path ../../data/YOLO/train_test_all/train.txt --cls_list_file ../../data_preprocess/convert2Yolo/fish.names\n",
    "\n",
    "!python3 example.py --datasets COCO --img_path ../../data/YOLO/test --label ../../data/labels_YOLO/test/test.json --convert_output_path ../../data/YOLO/test --img_type \".png\" --manifest_path ../../data/YOLO/train_test_all/test.txt --cls_list_file ../../data_preprocess/convert2Yolo/fish.names\n",
    "\n",
    "%cd /home/yebu/ai_competitions/aifactory/fish_copy"
   ]
  },
  {
   "cell_type": "code",
   "execution_count": null,
   "metadata": {},
   "outputs": [],
   "source": [
    "# COCO에서 object가 있는 image만 골라낸 후 coco에서 yolo로 converting이 끝남. "
   ]
  }
 ],
 "metadata": {
  "kernelspec": {
   "display_name": "fish",
   "language": "python",
   "name": "python3"
  },
  "language_info": {
   "codemirror_mode": {
    "name": "ipython",
    "version": 3
   },
   "file_extension": ".py",
   "mimetype": "text/x-python",
   "name": "python",
   "nbconvert_exporter": "python",
   "pygments_lexer": "ipython3",
   "version": "3.10.13"
  }
 },
 "nbformat": 4,
 "nbformat_minor": 2
}
